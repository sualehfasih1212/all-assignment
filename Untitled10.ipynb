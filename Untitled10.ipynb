{
 "cells": [
  {
   "cell_type": "code",
   "execution_count": 2,
   "metadata": {},
   "outputs": [
    {
     "name": "stdout",
     "output_type": "stream",
     "text": [
      "enter operator-\n",
      "enter 1st value4\n",
      "enter 2nd value4\n",
      "0 answer\n"
     ]
    }
   ],
   "source": [
    "operator =input(\"enter operator\")\n",
    "val1 =int(input(\"enter 1st value\"))\n",
    "val2 =int(input(\"enter 2nd value\"))\n",
    "if operator =='+':\n",
    "    val=val1 + val2\n",
    "    print(val,'answer')\n",
    "elif operator ==\"-\":\n",
    "    val=val1 - val2\n",
    "elif operator ==\"*\":\n",
    "    val=val1 * val2\n",
    "print(val,'answer')\n",
    "\n"
   ]
  },
  {
   "cell_type": "code",
   "execution_count": null,
   "metadata": {},
   "outputs": [],
   "source": []
  }
 ],
 "metadata": {
  "kernelspec": {
   "display_name": "Python 3",
   "language": "python",
   "name": "python3"
  },
  "language_info": {
   "codemirror_mode": {
    "name": "ipython",
    "version": 3
   },
   "file_extension": ".py",
   "mimetype": "text/x-python",
   "name": "python",
   "nbconvert_exporter": "python",
   "pygments_lexer": "ipython3",
   "version": "3.7.4"
  }
 },
 "nbformat": 4,
 "nbformat_minor": 2
}
