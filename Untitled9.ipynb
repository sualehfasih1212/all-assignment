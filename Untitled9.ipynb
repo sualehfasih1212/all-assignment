{
 "cells": [
  {
   "cell_type": "code",
   "execution_count": 1,
   "metadata": {},
   "outputs": [
    {
     "name": "stdout",
     "output_type": "stream",
     "text": [
      "('suaelh', 'arif', 'sauleh')\n"
     ]
    }
   ],
   "source": [
    "tp =('suaelh','arif','sauleh')\n",
    "print(tp)"
   ]
  },
  {
   "cell_type": "code",
   "execution_count": 2,
   "metadata": {},
   "outputs": [
    {
     "data": {
      "text/plain": [
       "'arif'"
      ]
     },
     "execution_count": 2,
     "metadata": {},
     "output_type": "execute_result"
    }
   ],
   "source": [
    "tp[1]"
   ]
  },
  {
   "cell_type": "code",
   "execution_count": 3,
   "metadata": {},
   "outputs": [
    {
     "data": {
      "text/plain": [
       "'suaelh'"
      ]
     },
     "execution_count": 3,
     "metadata": {},
     "output_type": "execute_result"
    }
   ],
   "source": [
    "tp[0]"
   ]
  },
  {
   "cell_type": "code",
   "execution_count": 4,
   "metadata": {},
   "outputs": [
    {
     "data": {
      "text/plain": [
       "'sauleh'"
      ]
     },
     "execution_count": 4,
     "metadata": {},
     "output_type": "execute_result"
    }
   ],
   "source": [
    "tp[2]"
   ]
  },
  {
   "cell_type": "code",
   "execution_count": null,
   "metadata": {},
   "outputs": [],
   "source": [
    "operator =input(\"enter operator\")\n",
    "val1 =input(\"enter 1st value\")\n",
    "val2 =input(\"enter 2nd value\")\n",
    "if operator =='+':\n",
    "    val=val1 +val2\n",
    "    print(val,'answer')\n",
    "    elif operator =='*':\n",
    "            val=val1 * val2\n",
    "    print(val,'answer')\n",
    "    elif operator =='/':\n",
    "            val=val1 / val2\n",
    "    print(val,'answer')\n",
    "    else:\n",
    "        print(\"enter correct operator\")\n",
    "    "
   ]
  },
  {
   "cell_type": "code",
   "execution_count": 32,
   "metadata": {},
   "outputs": [
    {
     "ename": "SyntaxError",
     "evalue": "invalid syntax (<ipython-input-32-b54e06397658>, line 12)",
     "output_type": "error",
     "traceback": [
      "\u001b[1;36m  File \u001b[1;32m\"<ipython-input-32-b54e06397658>\"\u001b[1;36m, line \u001b[1;32m12\u001b[0m\n\u001b[1;33m    elif operator  ==  \"/\":\u001b[0m\n\u001b[1;37m       ^\u001b[0m\n\u001b[1;31mSyntaxError\u001b[0m\u001b[1;31m:\u001b[0m invalid syntax\n"
     ]
    }
   ],
   "source": [
    "operator =input(\"enter operator\")\n",
    "val1 =int(input(\"enter 1st value\"))\n",
    "val2 =int(input(\"enter 2nd value\"))\n",
    "if operator =='+':\n",
    "    val=val1 + val2\n",
    "    print(val,'answer')\n",
    "elif operator ==\"-\":\n",
    "    val=val1 - val2\n",
    "elif operator ==\"*\":\n",
    "    val=val1 * val2\n",
    "print(val,'answer')\n",
    "elif operator  ==  \"/\":\n",
    "    val=val1 / val2\n",
    "print(val,'answer')\n",
    "\n",
    "\n",
    " \n",
    "    "
   ]
  },
  {
   "cell_type": "code",
   "execution_count": null,
   "metadata": {},
   "outputs": [],
   "source": [
    "operator =input(\"enter operator\")\n",
    "val1 =int(input(\"enter 1st value\"))\n",
    "val2 =int(input(\"enter 2nd value\"))\n",
    "if operator =='+':\n",
    "    val=val1 + val2\n",
    "    print(val,'answer')\n",
    "elif operator ==\"-\":\n",
    "    val=val1 - val2\n",
    "elif operator ==\"*\":\n",
    "    val=val1 * val2\n",
    "print(val,'answer')\n",
    "\n"
   ]
  },
  {
   "cell_type": "code",
   "execution_count": null,
   "metadata": {},
   "outputs": [],
   "source": [
    "operator =input(\"enter operator\")\n",
    "val1 =int(input(\"enter 1st value\"))\n",
    "val2 =int(input(\"enter 2nd value\"))\n",
    "if operator =='+':\n",
    "    val=val1 + val2\n",
    "    print(val,'answer')\n",
    "elif operator ==\"-\":\n",
    "    val=val1 - val2\n",
    "elif operator ==\"*\":\n",
    "    val=val1 * val2\n",
    "print(val,'answer')\n",
    "elif operator  ==  \"/\":\n",
    "    val=val1 / val2\n",
    "print(val,'answer')\n",
    "\n"
   ]
  },
  {
   "cell_type": "code",
   "execution_count": null,
   "metadata": {},
   "outputs": [],
   "source": []
  }
 ],
 "metadata": {
  "kernelspec": {
   "display_name": "Python 3",
   "language": "python",
   "name": "python3"
  },
  "language_info": {
   "codemirror_mode": {
    "name": "ipython",
    "version": 3
   },
   "file_extension": ".py",
   "mimetype": "text/x-python",
   "name": "python",
   "nbconvert_exporter": "python",
   "pygments_lexer": "ipython3",
   "version": "3.7.4"
  }
 },
 "nbformat": 4,
 "nbformat_minor": 2
}
